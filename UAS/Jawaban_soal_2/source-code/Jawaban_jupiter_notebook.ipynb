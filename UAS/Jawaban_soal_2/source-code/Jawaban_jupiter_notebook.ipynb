{
 "cells": [
  {
   "cell_type": "markdown",
   "metadata": {},
   "source": [
    "Contoh Program dari function of Exceptopn Handling"
   ]
  },
  {
   "cell_type": "code",
   "execution_count": 4,
   "metadata": {},
   "outputs": [
    {
     "name": "stdout",
     "output_type": "stream",
     "text": [
      "Contoh 1: Pembagian normal\n",
      "Hasil pembagian: 5.0\n",
      "Blok finally dieksekusi.\n",
      "\n",
      "Contoh 2: Pembagian dengan nol\n",
      "Kesalahan: Pembagian dengan nol tidak diperbolehkan.\n",
      "Blok finally dieksekusi.\n",
      "\n",
      "Contoh 3: Argumen bukan angka\n",
      "Kesalahan: Kedua argumen harus berupa angka.\n",
      "Blok finally dieksekusi.\n"
     ]
    }
   ],
   "source": [
    "# Contoh Exception Handling dalam Python\n",
    "# Notebook ini menunjukkan cara menggunakan exception handling untuk menangani kesalahan dalam operasi pembagian.\n",
    "\n",
    "def divide_numbers(numerator, denominator):\n",
    "    try:\n",
    "        result = numerator / denominator\n",
    "    except ZeroDivisionError:\n",
    "        print(\"Kesalahan: Pembagian dengan nol tidak diperbolehkan.\")\n",
    "        return None\n",
    "    except TypeError:\n",
    "        print(\"Kesalahan: Kedua argumen harus berupa angka.\")\n",
    "        return None\n",
    "    else:\n",
    "        print(f\"Hasil pembagian: {result}\")\n",
    "        return result\n",
    "    finally:\n",
    "        print(\"Blok finally dieksekusi.\")\n",
    "\n",
    "# Contoh 1: Pembagian normal\n",
    "print(\"Contoh 1: Pembagian normal\")\n",
    "divide_numbers(10, 2)\n",
    "\n",
    "# Contoh 2: Pembagian dengan nol\n",
    "print(\"\\nContoh 2: Pembagian dengan nol\")\n",
    "divide_numbers(10, 0)\n",
    "\n",
    "# Contoh 3: Argumen bukan angka\n",
    "print(\"\\nContoh 3: Argumen bukan angka\")\n",
    "divide_numbers(10, \"a\")\n"
   ]
  }
 ],
 "metadata": {
  "kernelspec": {
   "display_name": "Python 3",
   "language": "python",
   "name": "python3"
  },
  "language_info": {
   "codemirror_mode": {
    "name": "ipython",
    "version": 3
   },
   "file_extension": ".py",
   "mimetype": "text/x-python",
   "name": "python",
   "nbconvert_exporter": "python",
   "pygments_lexer": "ipython3",
   "version": "3.10.12"
  }
 },
 "nbformat": 4,
 "nbformat_minor": 2
}
