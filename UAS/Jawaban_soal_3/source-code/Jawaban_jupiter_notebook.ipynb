{
 "cells": [
  {
   "cell_type": "code",
   "execution_count": 1,
   "metadata": {},
   "outputs": [],
   "source": [
    "import tkinter as tk\n",
    "from tkinter import messagebox\n",
    "\n",
    "# Fungsi yang dijalankan saat tombol diklik\n",
    "def on_button_click():\n",
    "    messagebox.showinfo(\"Informasi\", \"Tombol telah diklik!\")\n",
    "\n",
    "# Membuat jendela utama\n",
    "window = tk.Tk()\n",
    "window.title(\"Contoh GUI dengan Tkinter\")\n",
    "window.geometry(\"300x200\")\n",
    "\n",
    "# Membuat label\n",
    "label = tk.Label(window, text=\"Hello, Selamat Datang di GUI Tkinter!\", font=(\"Arial\", 12))\n",
    "label.pack(pady=20)\n",
    "\n",
    "# Membuat tombol\n",
    "button = tk.Button(window, text=\"Klik Saya\", command=on_button_click, font=(\"Arial\", 12))\n",
    "button.pack(pady=10)\n",
    "\n",
    "# Menjalankan loop utama aplikasi\n",
    "window.mainloop()\n"
   ]
  }
 ],
 "metadata": {
  "kernelspec": {
   "display_name": "Python 3",
   "language": "python",
   "name": "python3"
  },
  "language_info": {
   "codemirror_mode": {
    "name": "ipython",
    "version": 3
   },
   "file_extension": ".py",
   "mimetype": "text/x-python",
   "name": "python",
   "nbconvert_exporter": "python",
   "pygments_lexer": "ipython3",
   "version": "3.10.12"
  }
 },
 "nbformat": 4,
 "nbformat_minor": 2
}
