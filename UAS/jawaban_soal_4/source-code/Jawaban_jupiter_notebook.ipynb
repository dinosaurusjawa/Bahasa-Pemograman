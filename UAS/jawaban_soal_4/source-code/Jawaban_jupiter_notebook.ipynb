{
 "cells": [
  {
   "cell_type": "code",
   "execution_count": 1,
   "metadata": {},
   "outputs": [
    {
     "name": "stderr",
     "output_type": "stream",
     "text": [
      "/tmp/ipykernel_29505/2603593865.py:7: MovedIn20Warning: The ``declarative_base()`` function is now available as sqlalchemy.orm.declarative_base(). (deprecated since: 2.0) (Background on SQLAlchemy 2.0 at: https://sqlalche.me/e/b8d9)\n",
      "  Base = declarative_base()\n"
     ]
    },
    {
     "data": {
      "text/plain": [
       "[(1, 'John Doe', 'Manager'), (2, 'John Doe', 'Manager')]"
      ]
     },
     "execution_count": 1,
     "metadata": {},
     "output_type": "execute_result"
    }
   ],
   "source": [
    "from sqlalchemy import create_engine, Column, Integer, String\n",
    "from sqlalchemy.ext.declarative import declarative_base\n",
    "from sqlalchemy.orm import sessionmaker\n",
    "\n",
    "# Mendefinisikan engine dan base\n",
    "engine = create_engine('sqlite:///example.db')\n",
    "Base = declarative_base()\n",
    "\n",
    "# Mendefinisikan model\n",
    "class Employee(Base):\n",
    "    __tablename__ = 'employees'\n",
    "    id = Column(Integer, primary_key=True)\n",
    "    name = Column(String)\n",
    "    position = Column(String)\n",
    "\n",
    "# Membuat tabel di database\n",
    "Base.metadata.create_all(engine)\n",
    "\n",
    "# Membuat sesi untuk berinteraksi dengan database\n",
    "Session = sessionmaker(bind=engine)\n",
    "session = Session()\n",
    "\n",
    "# Menambahkan data baru\n",
    "new_employee = Employee(name='Joh Don', position='Asisten')\n",
    "session.add(new_employee)\n",
    "\n",
    "# Menyimpan perubahan ke database\n",
    "session.commit()\n",
    "\n",
    "# Mengambil data dari tabel\n",
    "employees = session.query(Employee).all()\n",
    "\n",
    "# Menampilkan hasil\n",
    "employees_data = [(emp.id, emp.name, emp.position) for emp in employees]\n",
    "employees_data\n"
   ]
  }
 ],
 "metadata": {
  "kernelspec": {
   "display_name": "Python 3",
   "language": "python",
   "name": "python3"
  },
  "language_info": {
   "codemirror_mode": {
    "name": "ipython",
    "version": 3
   },
   "file_extension": ".py",
   "mimetype": "text/x-python",
   "name": "python",
   "nbconvert_exporter": "python",
   "pygments_lexer": "ipython3",
   "version": "3.10.12"
  }
 },
 "nbformat": 4,
 "nbformat_minor": 2
}
