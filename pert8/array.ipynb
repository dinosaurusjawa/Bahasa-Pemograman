{
 "cells": [
  {
   "cell_type": "code",
   "execution_count": null,
   "metadata": {},
   "outputs": [],
   "source": [
    "ARRAY"
   ]
  },
  {
   "cell_type": "markdown",
   "metadata": {},
   "source": [
    "1.DEFINITION\n",
    "- Array (dalam python) adalah struktur yang dapat menyimpan dan mengatur kumpulan data dalam set\n",
    "\n",
    "2.SET \n",
    "Merupakan type data aktif kolektif ayng digunakan untuk menyimpan multiple values dalam single variable dengan memenuhi kondisi :\n",
    "- Nilai yang disimpan harus unik\n",
    "- Nilai yang sudah di simpan tidak dapat di ubah lagi\n",
    "- Nilai yang disimpan dalam SET tidak dapat di ubah melalui Index\n"
   ]
  },
  {
   "cell_type": "code",
   "execution_count": null,
   "metadata": {},
   "outputs": [],
   "source": [
    "#Menggunakan kurawal\"{}\"\n",
    "student_set = {'Marcel', 'Kevin', 'Purnama'}\n",
    "print(student_set)\n",
    "\n",
    "#Ubah daftar menjadi list\n",
    "fruit_set = set([ 'Mangga', 'Anggur'])\n",
    "print(fruit_set)\n",
    "\n",
    "#Set dengan tipe data yang berbeda\n",
    "set_mix = {'Manusia', 'Iblis', 5, True, ('A', 'B')}\n",
    "print(set_mix)"
   ]
  },
  {
   "cell_type": "markdown",
   "metadata": {},
   "source": [
    "A. TIDAK TERURUT (SET)\n",
    "- Tipe data tidak berurutan artinya kita tidak bisa menggunakan untuk mengakses nilai di dalam index SET"
   ]
  },
  {
   "cell_type": "code",
   "execution_count": null,
   "metadata": {},
   "outputs": [],
   "source": [
    "my_set = ('z')\n",
    "print(my_set[0])"
   ]
  },
  {
   "cell_type": "markdown",
   "metadata": {},
   "source": [
    "B. UNCHANGEABLE (SET) / Tidak dapat diubah\n",
    "Artinya himpunan yang sudah masuk ke dalam set tidak dapat diubah lagi,Namun kita masih bisa menambah nilai dan menghapus "
   ]
  },
  {
   "cell_type": "code",
   "execution_count": null,
   "metadata": {},
   "outputs": [],
   "source": [
    "#Contohnya\n",
    "set_fruit = { 'Mangga', 'Anggur', True, 1, 2, 3 }\n",
    "\n",
    "keyboard_= {\n",
    "    (1, 2, 3),\n",
    "    (4, 5, 6),\n",
    "    (7, 8, 9),\n",
    "    (0)\n",
    "}"
   ]
  },
  {
   "cell_type": "markdown",
   "metadata": {},
   "source": [
    "C. NO DUPLICATE VALUES (SET) / Tidak ada nilai duplikat\n",
    "di dalam python juga diatur tidak dapat menerima nilai duplikat"
   ]
  },
  {
   "cell_type": "code",
   "execution_count": null,
   "metadata": {},
   "outputs": [],
   "source": [
    "#Contohnya\n",
    "unique_word = {\n",
    "    'Pagi', 'ini', 'adalah', 'pagi', 'yang', 'cerah',\n",
    "}\n",
    "\n",
    "print(unique_word)"
   ]
  },
  {
   "cell_type": "markdown",
   "metadata": {},
   "source": [
    "D. ADD/UPDATE SET ELEMENTS / Menambahkan dan memperbarui setiap bagian (SET)\n",
    "- Seperti yang ada di atas bahwa meskipun nilai yang ditetapkan tidak dapat berubah,namun masih bisa di tambahkan dan dihapus\n"
   ]
  },
  {
   "cell_type": "code",
   "execution_count": null,
   "metadata": {},
   "outputs": [],
   "source": [
    "alphabet_set = {'a', 'b', 'c'}\n",
    "print(alphabetical set)\n",
    "\n",
    "set_abjad.add('d')\n",
    "set_abjad.add('e')\n",
    "\n",
    "set_abjad.update({ 'f', 'g'})\n",
    "\n",
    "set_abjad.update([ 'h', 'i'])\n",
    "\n",
    "print(alphabetical set)"
   ]
  },
  {
   "cell_type": "markdown",
   "metadata": {},
   "source": [
    "- Menghapus (nilai) Untuk menghapus nilai yang dicari. Jika nilai yang dicari tidak ada maka akan terjadi error.\n",
    "- Membuang (nilai) Untuk menghapus nilai yang dicari. Jika nilai yang dicari tidak ada maka tidak akan terjadi error.\n",
    "- pop() Mengambil dan menghapus nilai di sebelah kiri.\n",
    "- clear() Menghapus semua anggota."
   ]
  },
  {
   "cell_type": "code",
   "execution_count": null,
   "metadata": {},
   "outputs": [],
   "source": [
    "set.remove(100)\n",
    "print(set)\n",
    "# will not error if ('a', 'b') is not in the set \n",
    "set.discard (('a', 'b')) \n",
    "print(set)\n",
    "# remove the value on the left \n",
    "Removedvalue = set.pop()\n",
    "print('Removed value =', valueDeleted) \n",
    "print(set)\n",
    "# delete all values\n",
    "set.clear()\n",
    "print(set)"
   ]
  },
  {
   "cell_type": "markdown",
   "metadata": {},
   "source": [
    "F. Fungsi (Set), \n",
    "Berikut ringkasan fungsi bawaan tipe data set yang bisa kita gunakan:\n",
    "- 1.Add() (Kegunaan Menambahkan satu anggota ke set)\n",
    "- 2.Clear() (Menghapus seluruh rangkaian)\n",
    "- 3.copy() (Buat salinan satu set menjadi set baru)\n",
    "- 4.difference() (Melakukan operasi perbedaan antara dua set)\n",
    "- 5.difference_update() (Hapus anggota kumpulan lain yang ada di kumpulan saat ini)\n",
    "- 6.discard() (Menghapus satu anggota dari kumpulan)\n",
    "- 7.intersection() (Melakukan operasi irisan antara dua set)\n",
    "- 8.intersection_update (Memperbarui anggota yang merupakan potongan dari dua set) \n",
    "- 9.isdisjoint() (Mengembalikan nilai Benar jika dua set tidak memiliki irisan)\n",
    "- 10.issusbet() (Mengembalikan nilai Benar jika himpunan lain memiliki anggota dari himpunan saat ini)\n",
    "- 11.issuperset() (Mengembalikan nilai Benar jika himpunan saat ini memiliki anggota dari himpunan lain)\n",
    "- 12.pop() (Menghapus dan mengembalikan nilai yang dihapus dari kumpulan)\n",
    "- 13.remove() (Menghapus nilai dari suatu set)\n",
    "- 14.symmetric difference() (Lakukan operasi komplemen antara dua set)\n",
    "- 15.symmetric difference_update() (Memperbarui kumpulan hasil pelengkap)\n",
    "- 16.union() (Melakukan operasi gabungan dua set atau lebih)\n",
    "- 17.update() (Memperbarui set dengan menambahkan nilai tertentu)"
   ]
  },
  {
   "cell_type": "markdown",
   "metadata": {},
   "source": []
  },
  {
   "cell_type": "markdown",
   "metadata": {},
   "source": [
    "3.DICTIONARY / KAMUS\n",
    "- Kamus merupakan tipe data pada python yang berfungsi untuk menyimpan kumpulan data/nilai dengan pendekatan “key-value”."
   ]
  },
  {
   "cell_type": "markdown",
   "metadata": {},
   "source": [
    "Kamus itu sendiri memiliki dua komponen 2 inti: \n",
    "- KEY (nama atribut suatu item dalam kamus)\n",
    "- VALUE (nilai yang disimpan dalam suatu atribut)"
   ]
  },
  {
   "cell_type": "markdown",
   "metadata": {},
   "source": [
    "Item kamus mempunyai 3 sifat yaitu:\n",
    "- Unordered (Tidak berurutan)\n",
    "- Changeable (Dapat diubah-ubah)\n",
    "- Unique (Tidak dapat menerima dua kunci yang sama)"
   ]
  },
  {
   "cell_type": "markdown",
   "metadata": {},
   "source": [
    "Unorderd\n",
    "- artinya tidak berurutan, jadi key/atribut yang kita definisikan terlebih dahulu, bukan berarti justru akan menjadi yang “pertama” dibandingkan dengan key yang lain.\n"
   ]
  },
  {
   "cell_type": "markdown",
   "metadata": {},
   "source": [
    "Changeable\n",
    "- kita bisa kita ubah nilai yang telah kita masukkan ke dalam kamus."
   ]
  },
  {
   "cell_type": "markdown",
   "metadata": {},
   "source": [
    "A. Buat Elemen Kamus\n",
    "- Untuk membuatnya ada 2 cara :\n",
    "- Yang pertama dengan kurung kurawal {}.\n",
    "- Dan yang kedua bisa menggunakan fungsi atau konstruktor dict()."
   ]
  },
  {
   "cell_type": "code",
   "execution_count": null,
   "metadata": {},
   "outputs": [],
   "source": [
    "# contohnya\n",
    "# first step\n",
    "book = {\n",
    "    \"title\": \"Fall Leaves Never Hate The Wind\", \n",
    "    \"Writer\": \"Tere Liye\"\n",
    "}\n",
    "# second way\n",
    "book = dict(\n",
    "title=\"Fall Leaves Never Hate The Wind\", \n",
    "author=\"Tere Liye\"\n",
    ")"
   ]
  },
  {
   "cell_type": "markdown",
   "metadata": {},
   "source": [
    "B. Menambah/Memperbarui Elemen Kamus Untuk menambah kunci dan item baru, \n",
    "caranya adalah dengan mengedit item. Jadi, jika kunci yang kita definisikan sudah ada, sistem akan menggantikan item lama dengan item baru, atau mengeditnya. Namun jika kunci yang kita definisikan belum ada, sistem akan menambahkannya sebagai item baru.\n",
    "\n",
    "Contoh"
   ]
  },
  {
   "cell_type": "code",
   "execution_count": null,
   "metadata": {},
   "outputs": [],
   "source": [
    "student = {\n",
    "    'name': 'Lendis Fabri',\n",
    "    'origin': 'Indonesia'\n",
    "}\n",
    "\n",
    "# Output None\n",
    "print('Hobby:', student.get('hobby'))\n",
    "\n",
    "# Menambah data\n",
    "student['hobby'] = 'Fishing'\n",
    "\n",
    "# Cetak ulang\n",
    "print('Hobby dari {} adalah {}'.format(\n",
    "    student.get('name'),\n",
    "    student.get('hobby')\n",
    "))"
   ]
  },
  {
   "cell_type": "markdown",
   "metadata": {},
   "source": [
    "C. Menghapus Elemen Kamus Ada dua cara untuk menghapus item:\n",
    "\n",
    "Menggunakan pernyataan del [key]. Menggunakan fungsi pop(). Perbedaan antara keduanya adalah jika kita menggunakan fungsi pop(), kita bisa mendapatkan nilai kembalian dari item yang dihapus.\n",
    "\n",
    "Contoh:"
   ]
  },
  {
   "cell_type": "code",
   "execution_count": null,
   "metadata": {},
   "outputs": [],
   "source": [
    "student = {\n",
    "    'name': 'Wahid Abdullah',\n",
    "    'age': 18,\n",
    "    'origin': 'Indonesia'\n",
    "}\n",
    "\n",
    "del student['name']\n",
    "student.pop('age')\n",
    "student.pop('origin')\n",
    "\n",
    "# Contoh penggunaan pop() yang mengembalikan nilai\n",
    "short_message = {\n",
    "    \"content\": \"THIS MESSAGE CAN ONLY BE READ ONCE!!\"\n",
    "}\n",
    "\n",
    "message_content = short_message.pop('content')\n",
    "\n",
    "# Akses langsung dari kamus\n",
    "print('Isi pesan:', short_message.get('content'))\n",
    "\n",
    "# Akses dari nilai yang disimpan\n",
    "print('Isi pesan:', message_content)"
   ]
  },
  {
   "cell_type": "markdown",
   "metadata": {},
   "source": [
    "D. Operator Keanggotaan (Membership Operators) Kita dapat menggunakan operator keanggotaan untuk tipe data kamus di Python.\n",
    "\n",
    "Contoh:"
   ]
  },
  {
   "cell_type": "code",
   "execution_count": null,
   "metadata": {},
   "outputs": [],
   "source": [
    "student = {\n",
    "    'name': 'Inspired Renza'\n",
    "}"
   ]
  },
  {
   "cell_type": "code",
   "execution_count": null,
   "metadata": {},
   "outputs": [],
   "source": [
    "print('Apakah variabel siswa memiliki key nama?')\n",
    "print('name' in student)\n",
    "\n",
    "print('\\nApakah variabel siswa TIDAK memiliki key usia?')\n",
    "print('age' not in student)"
   ]
  },
  {
   "cell_type": "markdown",
   "metadata": {},
   "source": [
    "e. Fungsi (Dictionary)\n",
    "\n",
    "Berikut adalah ringkasan dari fungsi bawaan Dictionary yang dapat kita gunakan:\n",
    "\n",
    "Fungsi Deskripsi\n",
    "\n",
    "- all() Mengembalikan True jika semua key dalam dictionary adalah True (atau jika dictionary kosong).\n",
    "- any() Mengembalikan True jika ada key dalam dictionary yang True. Jika dictionary kosong, mengembalikan False.\n",
    "- len() Mengembalikan panjang (jumlah item) dalam dictionary.\n",
    "- cmp() Membandingkan item dari dua dictionary. (Tidak tersedia di Python 3)\n",
    "- sorted() Mengembalikan list yang baru diurutkan dari key dalam dictionary."
   ]
  },
  {
   "cell_type": "markdown",
   "metadata": {},
   "source": []
  }
 ],
 "metadata": {
  "kernelspec": {
   "display_name": "Python 3",
   "language": "python",
   "name": "python3"
  },
  "language_info": {
   "codemirror_mode": {
    "name": "ipython",
    "version": 3
   },
   "file_extension": ".py",
   "mimetype": "text/x-python",
   "name": "python",
   "nbconvert_exporter": "python",
   "pygments_lexer": "ipython3",
   "version": "3.10.12"
  }
 },
 "nbformat": 4,
 "nbformat_minor": 2
}
